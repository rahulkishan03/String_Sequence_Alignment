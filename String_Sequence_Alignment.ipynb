{
  "nbformat": 4,
  "nbformat_minor": 0,
  "metadata": {
    "colab": {
      "name": "Algo_asmt.ipynb",
      "provenance": [],
      "collapsed_sections": []
    },
    "kernelspec": {
      "name": "python3",
      "display_name": "Python 3"
    },
    "language_info": {
      "name": "python"
    }
  },
  "cells": [
    {
      "cell_type": "code",
      "metadata": {
        "id": "8-gEBn6Xenbr"
      },
      "source": [
        "import pandas as pd\n",
        "import numpy as np"
      ],
      "execution_count": null,
      "outputs": []
    },
    {
      "cell_type": "code",
      "metadata": {
        "id": "8OuH8FOwZw92"
      },
      "source": [
        "def patternGenerator(str1,generator1):\n",
        "    temp = str1\n",
        "    for i in generator1:\n",
        "        temp = temp[:i+1] + temp + temp[i+1:]\n",
        "    return temp\n"
      ],
      "execution_count": null,
      "outputs": []
    },
    {
      "cell_type": "code",
      "metadata": {
        "id": "V3YSgmgMxG-j",
        "colab": {
          "base_uri": "https://localhost:8080/"
        },
        "outputId": "f55c3bd9-097d-4bdb-9a18-b0cd16fd51aa"
      },
      "source": [
        "str1 = \"ACTG\"\n",
        "generator1 = [3,6,1]\n",
        "str2 = \"TACG\"\n",
        "#str2 = \"ACTG\"\n",
        "#generator2 = [3,6,1]\n",
        "cost = [[0, 110, 48, 94], [110, 0, 118, 48], [48, 118, 0, 110], [94, 48, 110, 0]]\n",
        "delta = 30 \n",
        "cost_df = pd.DataFrame(cost, columns= [\"A\", \"C\", \"G\", \"T\"], index= [\"A\", \"C\", \"G\", \"T\"])\n",
        "generator2 = [1,2,9]\n",
        "x = patternGenerator(str1,generator1)\n",
        "y = patternGenerator(str2,generator2)\n",
        "if generationCheck(x,len(generator1),str1) and generationCheck(y,len(generator2),str2):\n",
        "    print(\"String generation check passed\")\n",
        "else:\n",
        "    print(\"String generation check failed\")\n",
        "#   Make sure you validate the length of the first and the second string to be 2j*str1.length and 2k*str2.length.\n",
        "#   This length check validatiion completed\n"
      ],
      "execution_count": null,
      "outputs": [
        {
          "output_type": "stream",
          "name": "stdout",
          "text": [
            "String generation check passed\n"
          ]
        }
      ]
    },
    {
      "cell_type": "code",
      "metadata": {
        "id": "GmdbhLHQHagz"
      },
      "source": [
        "def generationCheck(x,j,base):\n",
        "    if len(x) == (2**j)*len(base):\n",
        "        return True\n",
        "    return False"
      ],
      "execution_count": null,
      "outputs": []
    },
    {
      "cell_type": "markdown",
      "metadata": {
        "id": "HFIS1u4VyAn7"
      },
      "source": [
        "ACTG\n",
        "ACTGACTG\n",
        "ACTGACTACTGACTGG\n",
        "ACACTGACTACTGACTGGTGACTACTGACTGG\n"
      ]
    },
    {
      "cell_type": "code",
      "metadata": {
        "id": "SWrmoN2GZ5qq"
      },
      "source": [
        "def Alignment(x, y):\n",
        "  m = len(x)\n",
        "  n = len(y)\n",
        "  opt = np.zeros((m, n))\n",
        "  #Base case initialisation \n",
        "  for i in range(m):opt[i][0] = i*30 \n",
        "  for j in range(n):opt[0][j] = j*30 \n",
        "\n",
        "  #Dynamic programming calculation \n",
        "  for j in range(n):\n",
        "    for i in range(m):\n",
        "      mismatch = cost_df[x[i]][y[j]]\n",
        "      opt[i, j] = min(opt[i-1][j-1] + mismatch, opt[i-1][j] + delta, opt[i][j-1] + delta)\n",
        "\n",
        "  print(opt[n-1][m-1])\n",
        "  return opt  "
      ],
      "execution_count": null,
      "outputs": []
    },
    {
      "cell_type": "code",
      "metadata": {
        "colab": {
          "base_uri": "https://localhost:8080/"
        },
        "id": "wNpRM04VjNrt",
        "outputId": "1352d8b1-633c-4af4-99ec-6a983e9f28d6"
      },
      "source": [
        "def traceback(opt):\n",
        "    m = len(x)\n",
        "    n = len(y)\n",
        "    p = m-1\n",
        "    q = n-1\n",
        "    str1=[]\n",
        "    str2=[]\n",
        "    print(p,q)\n",
        "    while p!=0 or q!=0:\n",
        "        temp = opt[p][q]\n",
        "        mismatch = cost_df[x[p]][y[q]]\n",
        "        print(temp, opt[p-1][q-1] + mismatch, opt[p-1, q] + delta,opt[p, q-1] + delta)\n",
        "        if temp == (opt[p-1][q-1] + mismatch):\n",
        "            print(\"Inside 1\")\n",
        "            p = p-1\n",
        "            q = q-1\n",
        "            if mismatch == 0:\n",
        "                str1.append(x[p-1])\n",
        "                str2.append(y[q-1])\n",
        "        elif temp == (opt[p-1, q] + delta):\n",
        "            print(\"Inside 2\")\n",
        "            p = p-1\n",
        "            str2.append(x[q])\n",
        "        elif temp == (opt[p, q-1] + delta):\n",
        "            print(\"Inside 3\")\n",
        "            q = q-1\n",
        "            str1.append(x[p])\n",
        "        else:\n",
        "            print(\"Else condition\")\n",
        "            p=0\n",
        "            q=0\n",
        "    print(str1)\n",
        "    print(str2)\n",
        "print(x,y)\n",
        "opt=Alignment(x, y)\n",
        "traceback(opt)"
      ],
      "execution_count": null,
      "outputs": [
        {
          "output_type": "stream",
          "name": "stdout",
          "text": [
            "ACACTGACTACTGACTGGTGACTACTGACTGG TATTATACGCTATTATACGCGACGCGGACGCG\n",
            "522.0\n",
            "31 31\n",
            "522.0 522.0 528.0 582.0\n",
            "Inside 1\n",
            "522.0 640.0 528.0 522.0\n",
            "Inside 3\n",
            "492.0 492.0 552.0 552.0\n",
            "Inside 1\n",
            "492.0 540.0 492.0 552.0\n",
            "Inside 2\n",
            "462.0 462.0 522.0 522.0\n",
            "Inside 1\n",
            "462.0 462.0 522.0 510.0\n",
            "Inside 1\n",
            "462.0 462.0 522.0 462.0\n",
            "Inside 1\n",
            "462.0 512.0 462.0 462.0\n",
            "Inside 2\n",
            "432.0 550.0 480.0 432.0\n",
            "Inside 3\n",
            "402.0 402.0 462.0 462.0\n",
            "Inside 1\n",
            "402.0 402.0 414.0 414.0\n",
            "Inside 1\n",
            "354.0 402.0 354.0 414.0\n",
            "Inside 2\n",
            "324.0 324.0 384.0 384.0\n",
            "Inside 1\n",
            "324.0 324.0 384.0 384.0\n",
            "Inside 1\n",
            "324.0 324.0 336.0 384.0\n",
            "Inside 1\n",
            "324.0 324.0 336.0 336.0\n",
            "Inside 1\n",
            "276.0 276.0 276.0 336.0\n",
            "Inside 1\n",
            "276.0 376.0 276.0 306.0\n",
            "Inside 2\n",
            "246.0 294.0 246.0 288.0\n",
            "Inside 2\n",
            "216.0 216.0 276.0 276.0\n",
            "Inside 1\n",
            "216.0 216.0 264.0 258.0\n",
            "Inside 1\n",
            "216.0 308.0 216.0 246.0\n",
            "Inside 2\n",
            "186.0 186.0 234.0 228.0\n",
            "Inside 1\n",
            "186.0 290.0 186.0 228.0\n",
            "Inside 2\n",
            "156.0 156.0 216.0 210.0\n",
            "Inside 1\n",
            "156.0 156.0 216.0 168.0\n",
            "Inside 1\n",
            "156.0 156.0 168.0 168.0\n",
            "Inside 1\n",
            "108.0 108.0 156.0 168.0\n",
            "Inside 1\n",
            "108.0 218.0 108.0 150.0\n",
            "Inside 2\n",
            "78.0 78.0 138.0 138.0\n",
            "Inside 1\n",
            "78.0 78.0 90.0 120.0\n",
            "Inside 1\n",
            "78.0 78.0 90.0 90.0\n",
            "Inside 1\n",
            "30.0 30.0 60.0 90.0\n",
            "Inside 1\n",
            "30.0 168.0 216.0 60.0\n",
            "Else condition\n",
            "['T', 'G', 'C', 'G', 'T', 'C', 'C', 'T', 'G', 'T', 'G', 'T', 'G', 'T', 'A', 'C', 'A', 'T', 'A', 'C', 'G']\n",
            "['G', 'A', 'C', 'G', 'G', 'C', 'T', 'C', 'T', 'G', 'C', 'G', 'A', 'G', 'G', 'T', 'A', 'T', 'T', 'C', 'T', 'A', 'C', 'C', 'G', 'C', 'T']\n"
          ]
        }
      ]
    },
    {
      "cell_type": "code",
      "metadata": {
        "id": "tCVsYkEH65iK"
      },
      "source": [
        ""
      ],
      "execution_count": null,
      "outputs": []
    },
    {
      "cell_type": "code",
      "metadata": {
        "id": "_cnUgvQ9j85w",
        "colab": {
          "base_uri": "https://localhost:8080/"
        },
        "outputId": "fb72d77e-e537-41b0-a66e-a75050bff5bf"
      },
      "source": [
        "Alignment(x,y)"
      ],
      "execution_count": null,
      "outputs": [
        {
          "output_type": "stream",
          "name": "stdout",
          "text": [
            "0.0\n"
          ]
        }
      ]
    }
  ]
}